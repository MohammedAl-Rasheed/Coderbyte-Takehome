{
 "cells": [
  {
   "cell_type": "markdown",
   "metadata": {},
   "source": [
    "Imports"
   ]
  },
  {
   "cell_type": "code",
   "execution_count": 42,
   "metadata": {},
   "outputs": [],
   "source": [
    "import pandas as pd\n",
    "import numpy as np\n",
    "from io import StringIO\n",
    "import re"
   ]
  },
  {
   "cell_type": "markdown",
   "metadata": {},
   "source": [
    "Transforming Data Into Dataframe"
   ]
  },
  {
   "cell_type": "code",
   "execution_count": 43,
   "metadata": {},
   "outputs": [
    {
     "data": {
      "text/html": [
       "<div>\n",
       "<style scoped>\n",
       "    .dataframe tbody tr th:only-of-type {\n",
       "        vertical-align: middle;\n",
       "    }\n",
       "\n",
       "    .dataframe tbody tr th {\n",
       "        vertical-align: top;\n",
       "    }\n",
       "\n",
       "    .dataframe thead th {\n",
       "        text-align: right;\n",
       "    }\n",
       "</style>\n",
       "<table border=\"1\" class=\"dataframe\">\n",
       "  <thead>\n",
       "    <tr style=\"text-align: right;\">\n",
       "      <th></th>\n",
       "      <th>Airline Code</th>\n",
       "      <th>DelayTimes</th>\n",
       "      <th>FlightCodes</th>\n",
       "      <th>To_From</th>\n",
       "    </tr>\n",
       "  </thead>\n",
       "  <tbody>\n",
       "    <tr>\n",
       "      <th>0</th>\n",
       "      <td>Air Canada (!)</td>\n",
       "      <td>[21, 40]</td>\n",
       "      <td>20015.0</td>\n",
       "      <td>WAterLoo_NEWYork</td>\n",
       "    </tr>\n",
       "    <tr>\n",
       "      <th>1</th>\n",
       "      <td>&lt;Air France&gt; (12)</td>\n",
       "      <td>[]</td>\n",
       "      <td>NaN</td>\n",
       "      <td>Montreal_TORONTO</td>\n",
       "    </tr>\n",
       "    <tr>\n",
       "      <th>2</th>\n",
       "      <td>(Porter Airways. )</td>\n",
       "      <td>[60, 22, 87]</td>\n",
       "      <td>20035.0</td>\n",
       "      <td>CALgary_Ottawa</td>\n",
       "    </tr>\n",
       "    <tr>\n",
       "      <th>3</th>\n",
       "      <td>12. Air France</td>\n",
       "      <td>[78, 66]</td>\n",
       "      <td>NaN</td>\n",
       "      <td>Ottawa_VANcouvER</td>\n",
       "    </tr>\n",
       "    <tr>\n",
       "      <th>4</th>\n",
       "      <td>\".\\.Lufthansa.\\.\"</td>\n",
       "      <td>[12, 33]</td>\n",
       "      <td>20055.0</td>\n",
       "      <td>london_MONTreal</td>\n",
       "    </tr>\n",
       "  </tbody>\n",
       "</table>\n",
       "</div>"
      ],
      "text/plain": [
       "         Airline Code    DelayTimes  FlightCodes           To_From\n",
       "0      Air Canada (!)      [21, 40]      20015.0  WAterLoo_NEWYork\n",
       "1   <Air France> (12)            []          NaN  Montreal_TORONTO\n",
       "2  (Porter Airways. )  [60, 22, 87]      20035.0    CALgary_Ottawa\n",
       "3      12. Air France      [78, 66]          NaN  Ottawa_VANcouvER\n",
       "4   \".\\.Lufthansa.\\.\"      [12, 33]      20055.0   london_MONTreal"
      ]
     },
     "execution_count": 43,
     "metadata": {},
     "output_type": "execute_result"
    }
   ],
   "source": [
    "data = 'Airline Code;DelayTimes;FlightCodes;To_From\\nAir Canada (!);[21, 40];20015.0;WAterLoo_NEWYork\\n<Air France> (12);[];;Montreal_TORONTO\\n(Porter Airways. );[60, 22, 87];20035.0;CALgary_Ottawa\\n12. Air France;[78, 66];;Ottawa_VANcouvER\\n\"\"\".\\\\.Lufthansa.\\\\.\"\"\";[12, 33];20055.0;london_MONTreal\\n'\n",
    "\n",
    "# Convert the string to a dataframe\n",
    "df = pd.read_csv(StringIO(data), sep=';')\n",
    "\n",
    "df.head()"
   ]
  },
  {
   "cell_type": "markdown",
   "metadata": {},
   "source": [
    "Task 1: FlightCodes Column"
   ]
  },
  {
   "cell_type": "code",
   "execution_count": 44,
   "metadata": {},
   "outputs": [
    {
     "data": {
      "text/html": [
       "<div>\n",
       "<style scoped>\n",
       "    .dataframe tbody tr th:only-of-type {\n",
       "        vertical-align: middle;\n",
       "    }\n",
       "\n",
       "    .dataframe tbody tr th {\n",
       "        vertical-align: top;\n",
       "    }\n",
       "\n",
       "    .dataframe thead th {\n",
       "        text-align: right;\n",
       "    }\n",
       "</style>\n",
       "<table border=\"1\" class=\"dataframe\">\n",
       "  <thead>\n",
       "    <tr style=\"text-align: right;\">\n",
       "      <th></th>\n",
       "      <th>Airline Code</th>\n",
       "      <th>DelayTimes</th>\n",
       "      <th>FlightCodes</th>\n",
       "      <th>To_From</th>\n",
       "    </tr>\n",
       "  </thead>\n",
       "  <tbody>\n",
       "    <tr>\n",
       "      <th>0</th>\n",
       "      <td>Air Canada (!)</td>\n",
       "      <td>[21, 40]</td>\n",
       "      <td>20015.0</td>\n",
       "      <td>WAterLoo_NEWYork</td>\n",
       "    </tr>\n",
       "    <tr>\n",
       "      <th>1</th>\n",
       "      <td>&lt;Air France&gt; (12)</td>\n",
       "      <td>[]</td>\n",
       "      <td>20025.0</td>\n",
       "      <td>Montreal_TORONTO</td>\n",
       "    </tr>\n",
       "    <tr>\n",
       "      <th>2</th>\n",
       "      <td>(Porter Airways. )</td>\n",
       "      <td>[60, 22, 87]</td>\n",
       "      <td>20035.0</td>\n",
       "      <td>CALgary_Ottawa</td>\n",
       "    </tr>\n",
       "    <tr>\n",
       "      <th>3</th>\n",
       "      <td>12. Air France</td>\n",
       "      <td>[78, 66]</td>\n",
       "      <td>20045.0</td>\n",
       "      <td>Ottawa_VANcouvER</td>\n",
       "    </tr>\n",
       "    <tr>\n",
       "      <th>4</th>\n",
       "      <td>\".\\.Lufthansa.\\.\"</td>\n",
       "      <td>[12, 33]</td>\n",
       "      <td>20055.0</td>\n",
       "      <td>london_MONTreal</td>\n",
       "    </tr>\n",
       "  </tbody>\n",
       "</table>\n",
       "</div>"
      ],
      "text/plain": [
       "         Airline Code    DelayTimes  FlightCodes           To_From\n",
       "0      Air Canada (!)      [21, 40]      20015.0  WAterLoo_NEWYork\n",
       "1   <Air France> (12)            []      20025.0  Montreal_TORONTO\n",
       "2  (Porter Airways. )  [60, 22, 87]      20035.0    CALgary_Ottawa\n",
       "3      12. Air France      [78, 66]      20045.0  Ottawa_VANcouvER\n",
       "4   \".\\.Lufthansa.\\.\"      [12, 33]      20055.0   london_MONTreal"
      ]
     },
     "execution_count": 44,
     "metadata": {},
     "output_type": "execute_result"
    }
   ],
   "source": [
    "# Create a shifted column that is shifted forward\n",
    "df['FlightCodes_shifted'] = df['FlightCodes'].shift(1)\n",
    "\n",
    "# Add 10 to the shifted column\n",
    "df['FlightCodes_shifted'] = df['FlightCodes_shifted'] + 10\n",
    "\n",
    "# Fill the NaN values in the original column with the shifted column\n",
    "df['FlightCodes'] = df['FlightCodes'].fillna(df['FlightCodes_shifted'])\n",
    "\n",
    "# Remove the shifted column\n",
    "df.drop(columns=['FlightCodes_shifted'], inplace=True)\n",
    "\n",
    "df.head()"
   ]
  },
  {
   "cell_type": "markdown",
   "metadata": {},
   "source": [
    "Alternative solution to task 1"
   ]
  },
  {
   "cell_type": "code",
   "execution_count": null,
   "metadata": {},
   "outputs": [],
   "source": [
    "# Fill NaN values using an interpolation method\n",
    "df['FlightCodes'].interpolate(method='linear', inplace=True)\n",
    "df['FlightCodes'] = df['FlightCodes'].astype('int64')"
   ]
  },
  {
   "cell_type": "markdown",
   "metadata": {},
   "source": [
    "Task 2: To_From Column"
   ]
  },
  {
   "cell_type": "code",
   "execution_count": 45,
   "metadata": {},
   "outputs": [
    {
     "data": {
      "text/html": [
       "<div>\n",
       "<style scoped>\n",
       "    .dataframe tbody tr th:only-of-type {\n",
       "        vertical-align: middle;\n",
       "    }\n",
       "\n",
       "    .dataframe tbody tr th {\n",
       "        vertical-align: top;\n",
       "    }\n",
       "\n",
       "    .dataframe thead th {\n",
       "        text-align: right;\n",
       "    }\n",
       "</style>\n",
       "<table border=\"1\" class=\"dataframe\">\n",
       "  <thead>\n",
       "    <tr style=\"text-align: right;\">\n",
       "      <th></th>\n",
       "      <th>Airline Code</th>\n",
       "      <th>DelayTimes</th>\n",
       "      <th>FlightCodes</th>\n",
       "      <th>To</th>\n",
       "      <th>From</th>\n",
       "    </tr>\n",
       "  </thead>\n",
       "  <tbody>\n",
       "    <tr>\n",
       "      <th>0</th>\n",
       "      <td>Air Canada (!)</td>\n",
       "      <td>[21, 40]</td>\n",
       "      <td>20015.0</td>\n",
       "      <td>WATERLOO</td>\n",
       "      <td>NEWYORK</td>\n",
       "    </tr>\n",
       "    <tr>\n",
       "      <th>1</th>\n",
       "      <td>&lt;Air France&gt; (12)</td>\n",
       "      <td>[]</td>\n",
       "      <td>20025.0</td>\n",
       "      <td>MONTREAL</td>\n",
       "      <td>TORONTO</td>\n",
       "    </tr>\n",
       "    <tr>\n",
       "      <th>2</th>\n",
       "      <td>(Porter Airways. )</td>\n",
       "      <td>[60, 22, 87]</td>\n",
       "      <td>20035.0</td>\n",
       "      <td>CALGARY</td>\n",
       "      <td>OTTAWA</td>\n",
       "    </tr>\n",
       "    <tr>\n",
       "      <th>3</th>\n",
       "      <td>12. Air France</td>\n",
       "      <td>[78, 66]</td>\n",
       "      <td>20045.0</td>\n",
       "      <td>OTTAWA</td>\n",
       "      <td>VANCOUVER</td>\n",
       "    </tr>\n",
       "    <tr>\n",
       "      <th>4</th>\n",
       "      <td>\".\\.Lufthansa.\\.\"</td>\n",
       "      <td>[12, 33]</td>\n",
       "      <td>20055.0</td>\n",
       "      <td>LONDON</td>\n",
       "      <td>MONTREAL</td>\n",
       "    </tr>\n",
       "  </tbody>\n",
       "</table>\n",
       "</div>"
      ],
      "text/plain": [
       "         Airline Code    DelayTimes  FlightCodes        To       From\n",
       "0      Air Canada (!)      [21, 40]      20015.0  WATERLOO    NEWYORK\n",
       "1   <Air France> (12)            []      20025.0  MONTREAL    TORONTO\n",
       "2  (Porter Airways. )  [60, 22, 87]      20035.0   CALGARY     OTTAWA\n",
       "3      12. Air France      [78, 66]      20045.0    OTTAWA  VANCOUVER\n",
       "4   \".\\.Lufthansa.\\.\"      [12, 33]      20055.0    LONDON   MONTREAL"
      ]
     },
     "execution_count": 45,
     "metadata": {},
     "output_type": "execute_result"
    }
   ],
   "source": [
    "# Create new columns for the split\n",
    "df[['To', 'From']] = df['To_From'].str.split('_', expand=True)\n",
    "\n",
    "# Capital Case the columns\n",
    "df['From'] = df['From'].str.upper()\n",
    "df['To'] = df['To'].str.upper()\n",
    "\n",
    "# Remove the original column\n",
    "df.drop(['To_From'], axis=1, inplace=True)\n",
    "\n",
    "df.head()"
   ]
  },
  {
   "cell_type": "markdown",
   "metadata": {},
   "source": [
    "Task 3: Airline Code Column"
   ]
  },
  {
   "cell_type": "code",
   "execution_count": 46,
   "metadata": {},
   "outputs": [
    {
     "name": "stderr",
     "output_type": "stream",
     "text": [
      "/var/folders/l4/xqbp0whj41lbslgjdm9q8xw00000gn/T/ipykernel_44843/2641596957.py:1: FutureWarning: The default value of regex will change from True to False in a future version.\n",
      "  df['Airline Code'] = df['Airline Code'].str.replace(r'[^\\w\\s]', '')\n"
     ]
    },
    {
     "data": {
      "text/html": [
       "<div>\n",
       "<style scoped>\n",
       "    .dataframe tbody tr th:only-of-type {\n",
       "        vertical-align: middle;\n",
       "    }\n",
       "\n",
       "    .dataframe tbody tr th {\n",
       "        vertical-align: top;\n",
       "    }\n",
       "\n",
       "    .dataframe thead th {\n",
       "        text-align: right;\n",
       "    }\n",
       "</style>\n",
       "<table border=\"1\" class=\"dataframe\">\n",
       "  <thead>\n",
       "    <tr style=\"text-align: right;\">\n",
       "      <th></th>\n",
       "      <th>Airline Code</th>\n",
       "      <th>DelayTimes</th>\n",
       "      <th>FlightCodes</th>\n",
       "      <th>To</th>\n",
       "      <th>From</th>\n",
       "    </tr>\n",
       "  </thead>\n",
       "  <tbody>\n",
       "    <tr>\n",
       "      <th>0</th>\n",
       "      <td>Air Canada</td>\n",
       "      <td>[21, 40]</td>\n",
       "      <td>20015.0</td>\n",
       "      <td>WATERLOO</td>\n",
       "      <td>NEWYORK</td>\n",
       "    </tr>\n",
       "    <tr>\n",
       "      <th>1</th>\n",
       "      <td>Air France 12</td>\n",
       "      <td>[]</td>\n",
       "      <td>20025.0</td>\n",
       "      <td>MONTREAL</td>\n",
       "      <td>TORONTO</td>\n",
       "    </tr>\n",
       "    <tr>\n",
       "      <th>2</th>\n",
       "      <td>Porter Airways</td>\n",
       "      <td>[60, 22, 87]</td>\n",
       "      <td>20035.0</td>\n",
       "      <td>CALGARY</td>\n",
       "      <td>OTTAWA</td>\n",
       "    </tr>\n",
       "    <tr>\n",
       "      <th>3</th>\n",
       "      <td>12 Air France</td>\n",
       "      <td>[78, 66]</td>\n",
       "      <td>20045.0</td>\n",
       "      <td>OTTAWA</td>\n",
       "      <td>VANCOUVER</td>\n",
       "    </tr>\n",
       "    <tr>\n",
       "      <th>4</th>\n",
       "      <td>Lufthansa</td>\n",
       "      <td>[12, 33]</td>\n",
       "      <td>20055.0</td>\n",
       "      <td>LONDON</td>\n",
       "      <td>MONTREAL</td>\n",
       "    </tr>\n",
       "  </tbody>\n",
       "</table>\n",
       "</div>"
      ],
      "text/plain": [
       "      Airline Code    DelayTimes  FlightCodes        To       From\n",
       "0      Air Canada       [21, 40]      20015.0  WATERLOO    NEWYORK\n",
       "1    Air France 12            []      20025.0  MONTREAL    TORONTO\n",
       "2  Porter Airways   [60, 22, 87]      20035.0   CALGARY     OTTAWA\n",
       "3    12 Air France      [78, 66]      20045.0    OTTAWA  VANCOUVER\n",
       "4        Lufthansa      [12, 33]      20055.0    LONDON   MONTREAL"
      ]
     },
     "execution_count": 46,
     "metadata": {},
     "output_type": "execute_result"
    }
   ],
   "source": [
    "# Remove any non-alphanumeric character / non-whitespace character from the Airline Code column\n",
    "df['Airline Code'] = df['Airline Code'].str.replace(r'[^\\w\\s]', '')\n",
    "\n",
    "df.head()"
   ]
  }
 ],
 "metadata": {
  "kernelspec": {
   "display_name": "Python 3.9.13 64-bit",
   "language": "python",
   "name": "python3"
  },
  "language_info": {
   "codemirror_mode": {
    "name": "ipython",
    "version": 3
   },
   "file_extension": ".py",
   "mimetype": "text/x-python",
   "name": "python",
   "nbconvert_exporter": "python",
   "pygments_lexer": "ipython3",
   "version": "3.9.13"
  },
  "orig_nbformat": 4,
  "vscode": {
   "interpreter": {
    "hash": "b0fa6594d8f4cbf19f97940f81e996739fb7646882a419484c72d19e05852a7e"
   }
  }
 },
 "nbformat": 4,
 "nbformat_minor": 2
}
